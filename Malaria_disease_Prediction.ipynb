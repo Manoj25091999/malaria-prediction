{
  "nbformat": 4,
  "nbformat_minor": 0,
  "metadata": {
    "colab": {
      "name": "Malaria disease Prediction.ipynb",
      "provenance": [],
      "collapsed_sections": []
    },
    "kernelspec": {
      "name": "python3",
      "display_name": "Python 3"
    },
    "accelerator": "GPU"
  },
  "cells": [
    {
      "cell_type": "code",
      "metadata": {
        "id": "saWYEMxkNln6"
      },
      "source": [
        "# Importing important libraries \r\n",
        "from tensorflow.keras.layers import Input, Lambda, Dense, Flatten\r\n",
        "from tensorflow.keras.models import Model, load_model\r\n",
        "from tensorflow.keras.applications.vgg19 import VGG19\r\n",
        "from tensorflow.keras.applications.resnet50 import preprocess_input\r\n",
        "from tensorflow.keras.preprocessing.image import ImageDataGenerator, load_img\r\n",
        "from tensorflow.keras.preprocessing import image\r\n",
        "from tensorflow.keras.models import Sequential \r\n",
        "\r\n",
        "from glob import glob\r\n",
        "\r\n",
        "import numpy as np\r\n",
        "import matplotlib.pyplot as plt"
      ],
      "execution_count": 66,
      "outputs": []
    },
    {
      "cell_type": "code",
      "metadata": {
        "id": "XVDRItB8Ooc4",
        "colab": {
          "base_uri": "https://localhost:8080/"
        },
        "outputId": "e2c7bb69-a76f-4ca7-d928-6a71fed5590e"
      },
      "source": [
        "# Checking tensorflow version\r\n",
        "import tensorflow as tf\r\n",
        "print(tf.__version__)"
      ],
      "execution_count": 67,
      "outputs": [
        {
          "output_type": "stream",
          "text": [
            "2.4.0\n"
          ],
          "name": "stdout"
        }
      ]
    },
    {
      "cell_type": "code",
      "metadata": {
        "id": "86Dw-pZfTZ5N"
      },
      "source": [
        "# Re-sizing all the images for a fixed value\r\n",
        "image_size = [224,224]\r\n",
        "\r\n",
        "# providing paths to train and test dataset\r\n",
        "train_path = \"/content/drive/MyDrive/Malaria Prediction/Dataset/Train\"\r\n",
        "test_path = \"/content/drive/MyDrive/Malaria Prediction/Dataset/Test\""
      ],
      "execution_count": 68,
      "outputs": []
    },
    {
      "cell_type": "code",
      "metadata": {
        "id": "P4ZSgB5zUBle"
      },
      "source": [
        "# Importing the VGG16 library for transfer learning processes\r\n",
        "\r\n",
        "vgg19 = VGG19(input_shape=image_size+[3], include_top=False, weights=\"imagenet\")"
      ],
      "execution_count": 69,
      "outputs": []
    },
    {
      "cell_type": "code",
      "metadata": {
        "colab": {
          "base_uri": "https://localhost:8080/"
        },
        "id": "VMk7YXCTb3xa",
        "outputId": "0fcdae74-7454-461e-dbc5-0d36225994c6"
      },
      "source": [
        "# Checking model summary pr structure\r\n",
        "\r\n",
        "vgg19.summary()"
      ],
      "execution_count": 70,
      "outputs": [
        {
          "output_type": "stream",
          "text": [
            "Model: \"vgg19\"\n",
            "_________________________________________________________________\n",
            "Layer (type)                 Output Shape              Param #   \n",
            "=================================================================\n",
            "input_3 (InputLayer)         [(None, 224, 224, 3)]     0         \n",
            "_________________________________________________________________\n",
            "block1_conv1 (Conv2D)        (None, 224, 224, 64)      1792      \n",
            "_________________________________________________________________\n",
            "block1_conv2 (Conv2D)        (None, 224, 224, 64)      36928     \n",
            "_________________________________________________________________\n",
            "block1_pool (MaxPooling2D)   (None, 112, 112, 64)      0         \n",
            "_________________________________________________________________\n",
            "block2_conv1 (Conv2D)        (None, 112, 112, 128)     73856     \n",
            "_________________________________________________________________\n",
            "block2_conv2 (Conv2D)        (None, 112, 112, 128)     147584    \n",
            "_________________________________________________________________\n",
            "block2_pool (MaxPooling2D)   (None, 56, 56, 128)       0         \n",
            "_________________________________________________________________\n",
            "block3_conv1 (Conv2D)        (None, 56, 56, 256)       295168    \n",
            "_________________________________________________________________\n",
            "block3_conv2 (Conv2D)        (None, 56, 56, 256)       590080    \n",
            "_________________________________________________________________\n",
            "block3_conv3 (Conv2D)        (None, 56, 56, 256)       590080    \n",
            "_________________________________________________________________\n",
            "block3_conv4 (Conv2D)        (None, 56, 56, 256)       590080    \n",
            "_________________________________________________________________\n",
            "block3_pool (MaxPooling2D)   (None, 28, 28, 256)       0         \n",
            "_________________________________________________________________\n",
            "block4_conv1 (Conv2D)        (None, 28, 28, 512)       1180160   \n",
            "_________________________________________________________________\n",
            "block4_conv2 (Conv2D)        (None, 28, 28, 512)       2359808   \n",
            "_________________________________________________________________\n",
            "block4_conv3 (Conv2D)        (None, 28, 28, 512)       2359808   \n",
            "_________________________________________________________________\n",
            "block4_conv4 (Conv2D)        (None, 28, 28, 512)       2359808   \n",
            "_________________________________________________________________\n",
            "block4_pool (MaxPooling2D)   (None, 14, 14, 512)       0         \n",
            "_________________________________________________________________\n",
            "block5_conv1 (Conv2D)        (None, 14, 14, 512)       2359808   \n",
            "_________________________________________________________________\n",
            "block5_conv2 (Conv2D)        (None, 14, 14, 512)       2359808   \n",
            "_________________________________________________________________\n",
            "block5_conv3 (Conv2D)        (None, 14, 14, 512)       2359808   \n",
            "_________________________________________________________________\n",
            "block5_conv4 (Conv2D)        (None, 14, 14, 512)       2359808   \n",
            "_________________________________________________________________\n",
            "block5_pool (MaxPooling2D)   (None, 7, 7, 512)         0         \n",
            "=================================================================\n",
            "Total params: 20,024,384\n",
            "Trainable params: 20,024,384\n",
            "Non-trainable params: 0\n",
            "_________________________________________________________________\n"
          ],
          "name": "stdout"
        }
      ]
    },
    {
      "cell_type": "code",
      "metadata": {
        "id": "5kT0KGLTUp4-"
      },
      "source": [
        "# Not training already pre_trained weights\r\n",
        "for layer in vgg19.layers:\r\n",
        "  layer.trainable= False"
      ],
      "execution_count": 71,
      "outputs": []
    },
    {
      "cell_type": "code",
      "metadata": {
        "colab": {
          "base_uri": "https://localhost:8080/"
        },
        "id": "CCP-fT4SYn28",
        "outputId": "4393a4e9-9e5d-43b2-89ac-336048591213"
      },
      "source": [
        "# Getting number of classes in training set\r\n",
        "folders = glob(\"/content/drive/MyDrive/Malaria Prediction/Dataset/Train/*\")\r\n",
        "folders"
      ],
      "execution_count": 72,
      "outputs": [
        {
          "output_type": "execute_result",
          "data": {
            "text/plain": [
              "['/content/drive/MyDrive/Malaria Prediction/Dataset/Train/Uninfected',\n",
              " '/content/drive/MyDrive/Malaria Prediction/Dataset/Train/Parasite']"
            ]
          },
          "metadata": {
            "tags": []
          },
          "execution_count": 72
        }
      ]
    },
    {
      "cell_type": "code",
      "metadata": {
        "colab": {
          "base_uri": "https://localhost:8080/"
        },
        "id": "Rxsb1jSsY9yN",
        "outputId": "a978b607-436b-40af-9db2-bd90842a8ce5"
      },
      "source": [
        "# Getting number of output classes in test dataset\r\n",
        "test_folder = glob(\"/content/drive/MyDrive/Malaria Prediction/Dataset/Test/*\")\r\n",
        "test_folder"
      ],
      "execution_count": 73,
      "outputs": [
        {
          "output_type": "execute_result",
          "data": {
            "text/plain": [
              "['/content/drive/MyDrive/Malaria Prediction/Dataset/Test/Uninfected',\n",
              " '/content/drive/MyDrive/Malaria Prediction/Dataset/Test/Parasite']"
            ]
          },
          "metadata": {
            "tags": []
          },
          "execution_count": 73
        }
      ]
    },
    {
      "cell_type": "code",
      "metadata": {
        "id": "jdCLtZSbbnEH"
      },
      "source": [
        "# Flattneing the last layer and then adding our own layer as our final output (prediction) layer\r\n",
        "x = Flatten()(vgg19.output)\r\n",
        "prediction = Dense(len(folders), activation='softmax')(x)"
      ],
      "execution_count": 74,
      "outputs": []
    },
    {
      "cell_type": "code",
      "metadata": {
        "id": "tM_ujlHadwjj"
      },
      "source": [
        "# After adding our own layer in place of input layer, creating our final model object\r\n",
        "model = Model(inputs=vgg19.input, outputs=prediction)"
      ],
      "execution_count": 75,
      "outputs": []
    },
    {
      "cell_type": "code",
      "metadata": {
        "colab": {
          "base_uri": "https://localhost:8080/"
        },
        "id": "wmueJfIie8uP",
        "outputId": "44f40d2b-c893-4de3-e854-d3d13dd4e6d6"
      },
      "source": [
        "# Checking our final neural network (model) summary or structure\r\n",
        "model.summary()"
      ],
      "execution_count": 76,
      "outputs": [
        {
          "output_type": "stream",
          "text": [
            "Model: \"model_2\"\n",
            "_________________________________________________________________\n",
            "Layer (type)                 Output Shape              Param #   \n",
            "=================================================================\n",
            "input_3 (InputLayer)         [(None, 224, 224, 3)]     0         \n",
            "_________________________________________________________________\n",
            "block1_conv1 (Conv2D)        (None, 224, 224, 64)      1792      \n",
            "_________________________________________________________________\n",
            "block1_conv2 (Conv2D)        (None, 224, 224, 64)      36928     \n",
            "_________________________________________________________________\n",
            "block1_pool (MaxPooling2D)   (None, 112, 112, 64)      0         \n",
            "_________________________________________________________________\n",
            "block2_conv1 (Conv2D)        (None, 112, 112, 128)     73856     \n",
            "_________________________________________________________________\n",
            "block2_conv2 (Conv2D)        (None, 112, 112, 128)     147584    \n",
            "_________________________________________________________________\n",
            "block2_pool (MaxPooling2D)   (None, 56, 56, 128)       0         \n",
            "_________________________________________________________________\n",
            "block3_conv1 (Conv2D)        (None, 56, 56, 256)       295168    \n",
            "_________________________________________________________________\n",
            "block3_conv2 (Conv2D)        (None, 56, 56, 256)       590080    \n",
            "_________________________________________________________________\n",
            "block3_conv3 (Conv2D)        (None, 56, 56, 256)       590080    \n",
            "_________________________________________________________________\n",
            "block3_conv4 (Conv2D)        (None, 56, 56, 256)       590080    \n",
            "_________________________________________________________________\n",
            "block3_pool (MaxPooling2D)   (None, 28, 28, 256)       0         \n",
            "_________________________________________________________________\n",
            "block4_conv1 (Conv2D)        (None, 28, 28, 512)       1180160   \n",
            "_________________________________________________________________\n",
            "block4_conv2 (Conv2D)        (None, 28, 28, 512)       2359808   \n",
            "_________________________________________________________________\n",
            "block4_conv3 (Conv2D)        (None, 28, 28, 512)       2359808   \n",
            "_________________________________________________________________\n",
            "block4_conv4 (Conv2D)        (None, 28, 28, 512)       2359808   \n",
            "_________________________________________________________________\n",
            "block4_pool (MaxPooling2D)   (None, 14, 14, 512)       0         \n",
            "_________________________________________________________________\n",
            "block5_conv1 (Conv2D)        (None, 14, 14, 512)       2359808   \n",
            "_________________________________________________________________\n",
            "block5_conv2 (Conv2D)        (None, 14, 14, 512)       2359808   \n",
            "_________________________________________________________________\n",
            "block5_conv3 (Conv2D)        (None, 14, 14, 512)       2359808   \n",
            "_________________________________________________________________\n",
            "block5_conv4 (Conv2D)        (None, 14, 14, 512)       2359808   \n",
            "_________________________________________________________________\n",
            "block5_pool (MaxPooling2D)   (None, 7, 7, 512)         0         \n",
            "_________________________________________________________________\n",
            "flatten_2 (Flatten)          (None, 25088)             0         \n",
            "_________________________________________________________________\n",
            "dense_2 (Dense)              (None, 2)                 50178     \n",
            "=================================================================\n",
            "Total params: 20,074,562\n",
            "Trainable params: 50,178\n",
            "Non-trainable params: 20,024,384\n",
            "_________________________________________________________________\n"
          ],
          "name": "stdout"
        }
      ]
    },
    {
      "cell_type": "code",
      "metadata": {
        "id": "GUPeeSB6fLIP"
      },
      "source": [
        "# telling the model what cost and optimization method to use\r\n",
        "model.compile(optimizer='adam', loss='categorical_crossentropy', metrics=['accuracy'])"
      ],
      "execution_count": 77,
      "outputs": []
    },
    {
      "cell_type": "code",
      "metadata": {
        "id": "AzfHe4m7gehl"
      },
      "source": [
        "# Now time to import our images from the dataset and creating new images from it to train our model\r\n",
        "train_datagen = ImageDataGenerator(horizontal_flip=True, vertical_flip=True, validation_split=0.2, rescale=1./255, \r\n",
        "                                   zoom_range=0.2, shear_range=0.2)\r\n",
        "\r\n",
        "test_datagen = ImageDataGenerator(rescale=1./255)"
      ],
      "execution_count": 78,
      "outputs": []
    },
    {
      "cell_type": "code",
      "metadata": {
        "colab": {
          "base_uri": "https://localhost:8080/"
        },
        "id": "DOq0lYjIh_Xk",
        "outputId": "eed8ac9d-f091-4c7d-9632-470dfa214e57"
      },
      "source": [
        "# Preparing our training and test dataset\r\n",
        "# Making sure to provide the same target size as initialized for the image\r\n",
        "training_set = train_datagen.flow_from_directory(train_path, \r\n",
        "                                                 target_size=(224,224), \r\n",
        "                                                 batch_size=32, \r\n",
        "                                                 class_mode='categorical')"
      ],
      "execution_count": 79,
      "outputs": [
        {
          "output_type": "stream",
          "text": [
            "Found 416 images belonging to 2 classes.\n"
          ],
          "name": "stdout"
        }
      ]
    },
    {
      "cell_type": "code",
      "metadata": {
        "colab": {
          "base_uri": "https://localhost:8080/"
        },
        "id": "y10790sljrae",
        "outputId": "c7484b9f-4a9c-4410-e8c6-ab64b8fee1e2"
      },
      "source": [
        "training_set"
      ],
      "execution_count": 80,
      "outputs": [
        {
          "output_type": "execute_result",
          "data": {
            "text/plain": [
              "<tensorflow.python.keras.preprocessing.image.DirectoryIterator at 0x7f861e7a5748>"
            ]
          },
          "metadata": {
            "tags": []
          },
          "execution_count": 80
        }
      ]
    },
    {
      "cell_type": "code",
      "metadata": {
        "colab": {
          "base_uri": "https://localhost:8080/"
        },
        "id": "6ybLxArBluxp",
        "outputId": "176955cf-d5db-4489-ae04-f09fecdc375a"
      },
      "source": [
        "# Doing the same thing above for our test dataset\r\n",
        "test_set = test_datagen.flow_from_directory(test_path, target_size=(224,224), \r\n",
        "                                                 batch_size=32, \r\n",
        "                                                 class_mode='categorical')"
      ],
      "execution_count": 81,
      "outputs": [
        {
          "output_type": "stream",
          "text": [
            "Found 134 images belonging to 2 classes.\n"
          ],
          "name": "stdout"
        }
      ]
    },
    {
      "cell_type": "code",
      "metadata": {
        "colab": {
          "base_uri": "https://localhost:8080/"
        },
        "id": "9O4joiLSmsfy",
        "outputId": "3109687d-b498-4a73-e41b-e9bc99ed95fa"
      },
      "source": [
        "# fitting the model\r\n",
        "r = model.fit(training_set, validation_data=test_set, epochs=100, steps_per_epoch=len(training_set),\r\n",
        "          validation_steps=len(test_set))"
      ],
      "execution_count": 82,
      "outputs": [
        {
          "output_type": "stream",
          "text": [
            "Epoch 1/100\n",
            "13/13 [==============================] - 7s 462ms/step - loss: 1.6792 - accuracy: 0.5444 - val_loss: 0.7754 - val_accuracy: 0.6791\n",
            "Epoch 2/100\n",
            "13/13 [==============================] - 6s 445ms/step - loss: 0.7139 - accuracy: 0.6453 - val_loss: 1.1046 - val_accuracy: 0.4552\n",
            "Epoch 3/100\n",
            "13/13 [==============================] - 6s 449ms/step - loss: 0.6880 - accuracy: 0.6722 - val_loss: 0.4561 - val_accuracy: 0.7761\n",
            "Epoch 4/100\n",
            "13/13 [==============================] - 6s 451ms/step - loss: 0.4458 - accuracy: 0.7947 - val_loss: 0.5274 - val_accuracy: 0.7313\n",
            "Epoch 5/100\n",
            "13/13 [==============================] - 6s 457ms/step - loss: 0.3451 - accuracy: 0.8504 - val_loss: 0.3739 - val_accuracy: 0.8284\n",
            "Epoch 6/100\n",
            "13/13 [==============================] - 6s 448ms/step - loss: 0.2940 - accuracy: 0.8682 - val_loss: 0.4020 - val_accuracy: 0.8060\n",
            "Epoch 7/100\n",
            "13/13 [==============================] - 6s 448ms/step - loss: 0.3169 - accuracy: 0.8755 - val_loss: 0.3542 - val_accuracy: 0.8731\n",
            "Epoch 8/100\n",
            "13/13 [==============================] - 6s 448ms/step - loss: 0.3195 - accuracy: 0.8793 - val_loss: 0.5636 - val_accuracy: 0.6940\n",
            "Epoch 9/100\n",
            "13/13 [==============================] - 6s 452ms/step - loss: 0.3352 - accuracy: 0.8667 - val_loss: 0.3544 - val_accuracy: 0.8060\n",
            "Epoch 10/100\n",
            "13/13 [==============================] - 6s 450ms/step - loss: 0.2372 - accuracy: 0.8937 - val_loss: 0.5205 - val_accuracy: 0.7164\n",
            "Epoch 11/100\n",
            "13/13 [==============================] - 6s 454ms/step - loss: 0.2833 - accuracy: 0.8749 - val_loss: 0.3642 - val_accuracy: 0.7910\n",
            "Epoch 12/100\n",
            "13/13 [==============================] - 6s 458ms/step - loss: 0.2412 - accuracy: 0.8958 - val_loss: 0.3038 - val_accuracy: 0.9030\n",
            "Epoch 13/100\n",
            "13/13 [==============================] - 6s 459ms/step - loss: 0.2032 - accuracy: 0.9191 - val_loss: 0.3193 - val_accuracy: 0.8731\n",
            "Epoch 14/100\n",
            "13/13 [==============================] - 6s 448ms/step - loss: 0.2280 - accuracy: 0.9197 - val_loss: 0.3083 - val_accuracy: 0.8881\n",
            "Epoch 15/100\n",
            "13/13 [==============================] - 6s 458ms/step - loss: 0.2143 - accuracy: 0.9379 - val_loss: 0.3439 - val_accuracy: 0.8433\n",
            "Epoch 16/100\n",
            "13/13 [==============================] - 6s 448ms/step - loss: 0.2106 - accuracy: 0.9122 - val_loss: 0.3175 - val_accuracy: 0.8209\n",
            "Epoch 17/100\n",
            "13/13 [==============================] - 6s 451ms/step - loss: 0.2779 - accuracy: 0.8628 - val_loss: 0.2733 - val_accuracy: 0.8806\n",
            "Epoch 18/100\n",
            "13/13 [==============================] - 6s 450ms/step - loss: 0.1888 - accuracy: 0.9431 - val_loss: 0.2545 - val_accuracy: 0.9104\n",
            "Epoch 19/100\n",
            "13/13 [==============================] - 6s 447ms/step - loss: 0.1966 - accuracy: 0.9215 - val_loss: 0.2647 - val_accuracy: 0.8881\n",
            "Epoch 20/100\n",
            "13/13 [==============================] - 6s 450ms/step - loss: 0.2686 - accuracy: 0.8984 - val_loss: 0.4603 - val_accuracy: 0.7687\n",
            "Epoch 21/100\n",
            "13/13 [==============================] - 6s 446ms/step - loss: 0.1978 - accuracy: 0.9160 - val_loss: 0.2370 - val_accuracy: 0.9030\n",
            "Epoch 22/100\n",
            "13/13 [==============================] - 6s 449ms/step - loss: 0.2089 - accuracy: 0.9152 - val_loss: 0.3700 - val_accuracy: 0.8060\n",
            "Epoch 23/100\n",
            "13/13 [==============================] - 6s 457ms/step - loss: 0.1893 - accuracy: 0.9166 - val_loss: 0.2613 - val_accuracy: 0.9030\n",
            "Epoch 24/100\n",
            "13/13 [==============================] - 6s 447ms/step - loss: 0.1628 - accuracy: 0.9387 - val_loss: 0.5607 - val_accuracy: 0.7388\n",
            "Epoch 25/100\n",
            "13/13 [==============================] - 6s 448ms/step - loss: 0.1880 - accuracy: 0.9281 - val_loss: 0.2663 - val_accuracy: 0.8731\n",
            "Epoch 26/100\n",
            "13/13 [==============================] - 6s 451ms/step - loss: 0.1485 - accuracy: 0.9465 - val_loss: 0.4176 - val_accuracy: 0.7910\n",
            "Epoch 27/100\n",
            "13/13 [==============================] - 6s 449ms/step - loss: 0.1596 - accuracy: 0.9407 - val_loss: 0.3553 - val_accuracy: 0.8134\n",
            "Epoch 28/100\n",
            "13/13 [==============================] - 6s 444ms/step - loss: 0.1833 - accuracy: 0.9162 - val_loss: 0.2396 - val_accuracy: 0.9254\n",
            "Epoch 29/100\n",
            "13/13 [==============================] - 6s 446ms/step - loss: 0.1348 - accuracy: 0.9604 - val_loss: 0.2565 - val_accuracy: 0.8955\n",
            "Epoch 30/100\n",
            "13/13 [==============================] - 6s 448ms/step - loss: 0.1382 - accuracy: 0.9558 - val_loss: 0.2641 - val_accuracy: 0.8731\n",
            "Epoch 31/100\n",
            "13/13 [==============================] - 6s 450ms/step - loss: 0.1213 - accuracy: 0.9680 - val_loss: 0.3128 - val_accuracy: 0.8582\n",
            "Epoch 32/100\n",
            "13/13 [==============================] - 6s 450ms/step - loss: 0.1182 - accuracy: 0.9564 - val_loss: 0.2295 - val_accuracy: 0.9403\n",
            "Epoch 33/100\n",
            "13/13 [==============================] - 6s 445ms/step - loss: 0.1314 - accuracy: 0.9451 - val_loss: 0.2308 - val_accuracy: 0.9104\n",
            "Epoch 34/100\n",
            "13/13 [==============================] - 6s 448ms/step - loss: 0.1165 - accuracy: 0.9623 - val_loss: 0.2678 - val_accuracy: 0.9030\n",
            "Epoch 35/100\n",
            "13/13 [==============================] - 6s 447ms/step - loss: 0.1307 - accuracy: 0.9629 - val_loss: 0.2269 - val_accuracy: 0.9328\n",
            "Epoch 36/100\n",
            "13/13 [==============================] - 6s 453ms/step - loss: 0.1118 - accuracy: 0.9613 - val_loss: 0.2244 - val_accuracy: 0.9254\n",
            "Epoch 37/100\n",
            "13/13 [==============================] - 6s 449ms/step - loss: 0.1078 - accuracy: 0.9683 - val_loss: 0.2418 - val_accuracy: 0.8881\n",
            "Epoch 38/100\n",
            "13/13 [==============================] - 6s 451ms/step - loss: 0.0957 - accuracy: 0.9782 - val_loss: 0.2195 - val_accuracy: 0.9403\n",
            "Epoch 39/100\n",
            "13/13 [==============================] - 6s 449ms/step - loss: 0.1078 - accuracy: 0.9623 - val_loss: 0.2276 - val_accuracy: 0.9254\n",
            "Epoch 40/100\n",
            "13/13 [==============================] - 6s 449ms/step - loss: 0.1219 - accuracy: 0.9548 - val_loss: 0.3597 - val_accuracy: 0.8209\n",
            "Epoch 41/100\n",
            "13/13 [==============================] - 6s 449ms/step - loss: 0.1145 - accuracy: 0.9592 - val_loss: 0.3526 - val_accuracy: 0.8433\n",
            "Epoch 42/100\n",
            "13/13 [==============================] - 6s 446ms/step - loss: 0.2094 - accuracy: 0.9136 - val_loss: 0.2320 - val_accuracy: 0.9104\n",
            "Epoch 43/100\n",
            "13/13 [==============================] - 6s 447ms/step - loss: 0.1833 - accuracy: 0.9306 - val_loss: 0.2419 - val_accuracy: 0.9254\n",
            "Epoch 44/100\n",
            "13/13 [==============================] - 6s 451ms/step - loss: 0.1427 - accuracy: 0.9489 - val_loss: 0.2109 - val_accuracy: 0.9104\n",
            "Epoch 45/100\n",
            "13/13 [==============================] - 6s 455ms/step - loss: 0.1290 - accuracy: 0.9534 - val_loss: 0.3360 - val_accuracy: 0.8284\n",
            "Epoch 46/100\n",
            "13/13 [==============================] - 6s 455ms/step - loss: 0.1320 - accuracy: 0.9480 - val_loss: 0.2494 - val_accuracy: 0.9030\n",
            "Epoch 47/100\n",
            "13/13 [==============================] - 6s 449ms/step - loss: 0.1086 - accuracy: 0.9641 - val_loss: 0.2886 - val_accuracy: 0.8657\n",
            "Epoch 48/100\n",
            "13/13 [==============================] - 6s 449ms/step - loss: 0.0957 - accuracy: 0.9701 - val_loss: 0.2163 - val_accuracy: 0.9254\n",
            "Epoch 49/100\n",
            "13/13 [==============================] - 6s 449ms/step - loss: 0.0982 - accuracy: 0.9648 - val_loss: 0.1926 - val_accuracy: 0.9328\n",
            "Epoch 50/100\n",
            "13/13 [==============================] - 6s 450ms/step - loss: 0.0924 - accuracy: 0.9814 - val_loss: 0.2344 - val_accuracy: 0.9179\n",
            "Epoch 51/100\n",
            "13/13 [==============================] - 6s 448ms/step - loss: 0.1084 - accuracy: 0.9663 - val_loss: 0.2520 - val_accuracy: 0.9104\n",
            "Epoch 52/100\n",
            "13/13 [==============================] - 6s 452ms/step - loss: 0.1078 - accuracy: 0.9595 - val_loss: 0.2096 - val_accuracy: 0.9254\n",
            "Epoch 53/100\n",
            "13/13 [==============================] - 6s 447ms/step - loss: 0.1006 - accuracy: 0.9637 - val_loss: 0.1974 - val_accuracy: 0.9254\n",
            "Epoch 54/100\n",
            "13/13 [==============================] - 6s 449ms/step - loss: 0.0964 - accuracy: 0.9671 - val_loss: 0.2143 - val_accuracy: 0.9104\n",
            "Epoch 55/100\n",
            "13/13 [==============================] - 6s 450ms/step - loss: 0.0747 - accuracy: 0.9819 - val_loss: 0.1876 - val_accuracy: 0.9328\n",
            "Epoch 56/100\n",
            "13/13 [==============================] - 6s 456ms/step - loss: 0.1064 - accuracy: 0.9596 - val_loss: 0.3066 - val_accuracy: 0.8507\n",
            "Epoch 57/100\n",
            "13/13 [==============================] - 6s 448ms/step - loss: 0.0664 - accuracy: 0.9870 - val_loss: 0.2431 - val_accuracy: 0.8881\n",
            "Epoch 58/100\n",
            "13/13 [==============================] - 6s 448ms/step - loss: 0.0821 - accuracy: 0.9750 - val_loss: 0.2432 - val_accuracy: 0.8881\n",
            "Epoch 59/100\n",
            "13/13 [==============================] - 6s 450ms/step - loss: 0.0783 - accuracy: 0.9776 - val_loss: 0.2038 - val_accuracy: 0.9179\n",
            "Epoch 60/100\n",
            "13/13 [==============================] - 6s 448ms/step - loss: 0.0803 - accuracy: 0.9722 - val_loss: 0.2046 - val_accuracy: 0.9179\n",
            "Epoch 61/100\n",
            "13/13 [==============================] - 6s 448ms/step - loss: 0.1027 - accuracy: 0.9583 - val_loss: 0.3728 - val_accuracy: 0.8134\n",
            "Epoch 62/100\n",
            "13/13 [==============================] - 6s 448ms/step - loss: 0.0672 - accuracy: 0.9841 - val_loss: 0.2290 - val_accuracy: 0.9104\n",
            "Epoch 63/100\n",
            "13/13 [==============================] - 6s 449ms/step - loss: 0.0745 - accuracy: 0.9765 - val_loss: 0.2725 - val_accuracy: 0.8806\n",
            "Epoch 64/100\n",
            "13/13 [==============================] - 6s 454ms/step - loss: 0.0815 - accuracy: 0.9752 - val_loss: 0.2150 - val_accuracy: 0.9403\n",
            "Epoch 65/100\n",
            "13/13 [==============================] - 6s 461ms/step - loss: 0.0663 - accuracy: 0.9868 - val_loss: 0.2036 - val_accuracy: 0.9254\n",
            "Epoch 66/100\n",
            "13/13 [==============================] - 6s 457ms/step - loss: 0.0737 - accuracy: 0.9855 - val_loss: 0.4679 - val_accuracy: 0.7761\n",
            "Epoch 67/100\n",
            "13/13 [==============================] - 6s 453ms/step - loss: 0.0816 - accuracy: 0.9623 - val_loss: 0.2356 - val_accuracy: 0.9254\n",
            "Epoch 68/100\n",
            "13/13 [==============================] - 6s 455ms/step - loss: 0.1083 - accuracy: 0.9488 - val_loss: 0.3196 - val_accuracy: 0.8507\n",
            "Epoch 69/100\n",
            "13/13 [==============================] - 6s 446ms/step - loss: 0.1167 - accuracy: 0.9502 - val_loss: 0.2199 - val_accuracy: 0.9104\n",
            "Epoch 70/100\n",
            "13/13 [==============================] - 6s 447ms/step - loss: 0.1359 - accuracy: 0.9506 - val_loss: 0.1980 - val_accuracy: 0.9328\n",
            "Epoch 71/100\n",
            "13/13 [==============================] - 6s 446ms/step - loss: 0.1256 - accuracy: 0.9375 - val_loss: 0.3315 - val_accuracy: 0.8507\n",
            "Epoch 72/100\n",
            "13/13 [==============================] - 6s 451ms/step - loss: 0.1133 - accuracy: 0.9600 - val_loss: 0.1860 - val_accuracy: 0.9403\n",
            "Epoch 73/100\n",
            "13/13 [==============================] - 6s 449ms/step - loss: 0.0812 - accuracy: 0.9746 - val_loss: 0.1728 - val_accuracy: 0.9328\n",
            "Epoch 74/100\n",
            "13/13 [==============================] - 6s 445ms/step - loss: 0.0962 - accuracy: 0.9684 - val_loss: 0.1575 - val_accuracy: 0.9403\n",
            "Epoch 75/100\n",
            "13/13 [==============================] - 6s 446ms/step - loss: 0.0711 - accuracy: 0.9767 - val_loss: 0.3238 - val_accuracy: 0.8358\n",
            "Epoch 76/100\n",
            "13/13 [==============================] - 6s 448ms/step - loss: 0.0894 - accuracy: 0.9607 - val_loss: 0.2147 - val_accuracy: 0.9179\n",
            "Epoch 77/100\n",
            "13/13 [==============================] - 6s 456ms/step - loss: 0.0600 - accuracy: 0.9821 - val_loss: 0.1917 - val_accuracy: 0.9552\n",
            "Epoch 78/100\n",
            "13/13 [==============================] - 6s 447ms/step - loss: 0.0583 - accuracy: 0.9834 - val_loss: 0.3419 - val_accuracy: 0.8433\n",
            "Epoch 79/100\n",
            "13/13 [==============================] - 6s 448ms/step - loss: 0.0897 - accuracy: 0.9651 - val_loss: 0.2048 - val_accuracy: 0.9254\n",
            "Epoch 80/100\n",
            "13/13 [==============================] - 6s 446ms/step - loss: 0.0694 - accuracy: 0.9840 - val_loss: 0.2154 - val_accuracy: 0.9104\n",
            "Epoch 81/100\n",
            "13/13 [==============================] - 6s 448ms/step - loss: 0.0735 - accuracy: 0.9801 - val_loss: 0.2535 - val_accuracy: 0.8955\n",
            "Epoch 82/100\n",
            "13/13 [==============================] - 6s 447ms/step - loss: 0.0607 - accuracy: 0.9834 - val_loss: 0.1961 - val_accuracy: 0.9328\n",
            "Epoch 83/100\n",
            "13/13 [==============================] - 6s 446ms/step - loss: 0.1046 - accuracy: 0.9598 - val_loss: 0.1943 - val_accuracy: 0.9328\n",
            "Epoch 84/100\n",
            "13/13 [==============================] - 6s 447ms/step - loss: 0.1102 - accuracy: 0.9597 - val_loss: 0.2501 - val_accuracy: 0.8955\n",
            "Epoch 85/100\n",
            "13/13 [==============================] - 6s 448ms/step - loss: 0.0754 - accuracy: 0.9743 - val_loss: 0.1783 - val_accuracy: 0.9254\n",
            "Epoch 86/100\n",
            "13/13 [==============================] - 6s 449ms/step - loss: 0.0584 - accuracy: 0.9842 - val_loss: 0.1716 - val_accuracy: 0.9254\n",
            "Epoch 87/100\n",
            "13/13 [==============================] - 6s 453ms/step - loss: 0.0583 - accuracy: 0.9895 - val_loss: 0.2250 - val_accuracy: 0.8881\n",
            "Epoch 88/100\n",
            "13/13 [==============================] - 6s 448ms/step - loss: 0.0605 - accuracy: 0.9858 - val_loss: 0.2053 - val_accuracy: 0.9179\n",
            "Epoch 89/100\n",
            "13/13 [==============================] - 6s 447ms/step - loss: 0.0565 - accuracy: 0.9814 - val_loss: 0.1825 - val_accuracy: 0.9403\n",
            "Epoch 90/100\n",
            "13/13 [==============================] - 6s 448ms/step - loss: 0.0817 - accuracy: 0.9698 - val_loss: 0.8929 - val_accuracy: 0.7090\n",
            "Epoch 91/100\n",
            "13/13 [==============================] - 6s 448ms/step - loss: 0.1863 - accuracy: 0.9339 - val_loss: 0.1771 - val_accuracy: 0.9328\n",
            "Epoch 92/100\n",
            "13/13 [==============================] - 6s 447ms/step - loss: 0.0834 - accuracy: 0.9612 - val_loss: 0.1648 - val_accuracy: 0.9403\n",
            "Epoch 93/100\n",
            "13/13 [==============================] - 6s 448ms/step - loss: 0.0643 - accuracy: 0.9731 - val_loss: 0.2917 - val_accuracy: 0.8731\n",
            "Epoch 94/100\n",
            "13/13 [==============================] - 6s 446ms/step - loss: 0.0704 - accuracy: 0.9728 - val_loss: 0.1630 - val_accuracy: 0.9403\n",
            "Epoch 95/100\n",
            "13/13 [==============================] - 6s 446ms/step - loss: 0.0481 - accuracy: 0.9879 - val_loss: 0.1653 - val_accuracy: 0.9328\n",
            "Epoch 96/100\n",
            "13/13 [==============================] - 6s 446ms/step - loss: 0.0868 - accuracy: 0.9659 - val_loss: 0.1772 - val_accuracy: 0.9403\n",
            "Epoch 97/100\n",
            "13/13 [==============================] - 6s 451ms/step - loss: 0.0853 - accuracy: 0.9681 - val_loss: 0.2604 - val_accuracy: 0.8806\n",
            "Epoch 98/100\n",
            "13/13 [==============================] - 6s 452ms/step - loss: 0.0758 - accuracy: 0.9746 - val_loss: 0.1510 - val_accuracy: 0.9328\n",
            "Epoch 99/100\n",
            "13/13 [==============================] - 6s 449ms/step - loss: 0.0678 - accuracy: 0.9819 - val_loss: 0.1614 - val_accuracy: 0.9328\n",
            "Epoch 100/100\n",
            "13/13 [==============================] - 6s 452ms/step - loss: 0.0503 - accuracy: 0.9855 - val_loss: 0.2242 - val_accuracy: 0.8955\n"
          ],
          "name": "stdout"
        }
      ]
    },
    {
      "cell_type": "code",
      "metadata": {
        "id": "P3qfQq_UDp6T",
        "colab": {
          "base_uri": "https://localhost:8080/"
        },
        "outputId": "7e973621-6d13-4e62-ad62-978aa593a5fd"
      },
      "source": [
        "r.history"
      ],
      "execution_count": 83,
      "outputs": [
        {
          "output_type": "execute_result",
          "data": {
            "text/plain": [
              "{'accuracy': [0.5697115659713745,\n",
              "  0.6466346383094788,\n",
              "  0.7019230723381042,\n",
              "  0.8100961446762085,\n",
              "  0.8413461446762085,\n",
              "  0.8653846383094788,\n",
              "  0.875,\n",
              "  0.8846153616905212,\n",
              "  0.8605769276618958,\n",
              "  0.8870192170143127,\n",
              "  0.8990384340286255,\n",
              "  0.901442289352417,\n",
              "  0.9302884340286255,\n",
              "  0.9278846383094788,\n",
              "  0.942307710647583,\n",
              "  0.8942307829856873,\n",
              "  0.9038461446762085,\n",
              "  0.9254807829856873,\n",
              "  0.9158653616905212,\n",
              "  0.8966346383094788,\n",
              "  0.9254807829856873,\n",
              "  0.8918269276618958,\n",
              "  0.9158653616905212,\n",
              "  0.9375,\n",
              "  0.9399038553237915,\n",
              "  0.9447115659713745,\n",
              "  0.9399038553237915,\n",
              "  0.9350961446762085,\n",
              "  0.9615384340286255,\n",
              "  0.9495192170143127,\n",
              "  0.9591346383094788,\n",
              "  0.9447115659713745,\n",
              "  0.942307710647583,\n",
              "  0.963942289352417,\n",
              "  0.963942289352417,\n",
              "  0.963942289352417,\n",
              "  0.9615384340286255,\n",
              "  0.973557710647583,\n",
              "  0.9591346383094788,\n",
              "  0.9543269276618958,\n",
              "  0.9495192170143127,\n",
              "  0.90625,\n",
              "  0.932692289352417,\n",
              "  0.9399038553237915,\n",
              "  0.9375,\n",
              "  0.9543269276618958,\n",
              "  0.9615384340286255,\n",
              "  0.973557710647583,\n",
              "  0.9711538553237915,\n",
              "  0.9807692170143127,\n",
              "  0.9663461446762085,\n",
              "  0.9615384340286255,\n",
              "  0.9711538553237915,\n",
              "  0.9759615659713745,\n",
              "  0.9783653616905212,\n",
              "  0.9591346383094788,\n",
              "  0.9807692170143127,\n",
              "  0.973557710647583,\n",
              "  0.9783653616905212,\n",
              "  0.9759615659713745,\n",
              "  0.9567307829856873,\n",
              "  0.9879807829856873,\n",
              "  0.9759615659713745,\n",
              "  0.9783653616905212,\n",
              "  0.9711538553237915,\n",
              "  0.9831730723381042,\n",
              "  0.9591346383094788,\n",
              "  0.9471153616905212,\n",
              "  0.9519230723381042,\n",
              "  0.9543269276618958,\n",
              "  0.9495192170143127,\n",
              "  0.9567307829856873,\n",
              "  0.9711538553237915,\n",
              "  0.96875,\n",
              "  0.9759615659713745,\n",
              "  0.963942289352417,\n",
              "  0.9807692170143127,\n",
              "  0.9783653616905212,\n",
              "  0.973557710647583,\n",
              "  0.9831730723381042,\n",
              "  0.9831730723381042,\n",
              "  0.9855769276618958,\n",
              "  0.96875,\n",
              "  0.9615384340286255,\n",
              "  0.9807692170143127,\n",
              "  0.9807692170143127,\n",
              "  0.9855769276618958,\n",
              "  0.9807692170143127,\n",
              "  0.9879807829856873,\n",
              "  0.96875,\n",
              "  0.9567307829856873,\n",
              "  0.963942289352417,\n",
              "  0.9783653616905212,\n",
              "  0.9831730723381042,\n",
              "  0.9855769276618958,\n",
              "  0.9759615659713745,\n",
              "  0.9759615659713745,\n",
              "  0.9783653616905212,\n",
              "  0.9831730723381042,\n",
              "  0.9855769276618958],\n",
              " 'loss': [1.379508376121521,\n",
              "  0.7066301703453064,\n",
              "  0.6066452264785767,\n",
              "  0.4246356189250946,\n",
              "  0.3549872040748596,\n",
              "  0.30080723762512207,\n",
              "  0.30243784189224243,\n",
              "  0.29707401990890503,\n",
              "  0.3231007158756256,\n",
              "  0.25613167881965637,\n",
              "  0.26087862253189087,\n",
              "  0.23005865514278412,\n",
              "  0.20191924273967743,\n",
              "  0.22362138330936432,\n",
              "  0.19303546845912933,\n",
              "  0.24707500636577606,\n",
              "  0.2211546152830124,\n",
              "  0.2091136872768402,\n",
              "  0.18922874331474304,\n",
              "  0.26868078112602234,\n",
              "  0.19479180872440338,\n",
              "  0.24757695198059082,\n",
              "  0.19555512070655823,\n",
              "  0.17817266285419464,\n",
              "  0.16196607053279877,\n",
              "  0.15025781095027924,\n",
              "  0.15984997153282166,\n",
              "  0.16340208053588867,\n",
              "  0.13503926992416382,\n",
              "  0.14184772968292236,\n",
              "  0.13148266077041626,\n",
              "  0.14203868806362152,\n",
              "  0.13552871346473694,\n",
              "  0.118404321372509,\n",
              "  0.13082440197467804,\n",
              "  0.11775027215480804,\n",
              "  0.11458900570869446,\n",
              "  0.10209773480892181,\n",
              "  0.11606959998607635,\n",
              "  0.12413784116506577,\n",
              "  0.12984289228916168,\n",
              "  0.21390295028686523,\n",
              "  0.17118945717811584,\n",
              "  0.14332962036132812,\n",
              "  0.1496911495923996,\n",
              "  0.11980167776346207,\n",
              "  0.11277042329311371,\n",
              "  0.09034004807472229,\n",
              "  0.09255397319793701,\n",
              "  0.08393719792366028,\n",
              "  0.10468780994415283,\n",
              "  0.09946416318416595,\n",
              "  0.08904414623975754,\n",
              "  0.08197835832834244,\n",
              "  0.07928478717803955,\n",
              "  0.1164683923125267,\n",
              "  0.07302374392747879,\n",
              "  0.08965452015399933,\n",
              "  0.07946714758872986,\n",
              "  0.07608349621295929,\n",
              "  0.11019343882799149,\n",
              "  0.06591425091028214,\n",
              "  0.07974639534950256,\n",
              "  0.08488039672374725,\n",
              "  0.08493342995643616,\n",
              "  0.07117798924446106,\n",
              "  0.09818515181541443,\n",
              "  0.11392153799533844,\n",
              "  0.11116863042116165,\n",
              "  0.11407218873500824,\n",
              "  0.10704071074724197,\n",
              "  0.10532370954751968,\n",
              "  0.0826345831155777,\n",
              "  0.08450225740671158,\n",
              "  0.07237065583467484,\n",
              "  0.0861908346414566,\n",
              "  0.06536505371332169,\n",
              "  0.07006499916315079,\n",
              "  0.0768778845667839,\n",
              "  0.06590952724218369,\n",
              "  0.0685809776186943,\n",
              "  0.06127575784921646,\n",
              "  0.09337159246206284,\n",
              "  0.11178998649120331,\n",
              "  0.06198824197053909,\n",
              "  0.06687533110380173,\n",
              "  0.062336523085832596,\n",
              "  0.06631084531545639,\n",
              "  0.053913410753011703,\n",
              "  0.08283480256795883,\n",
              "  0.13085338473320007,\n",
              "  0.08661603182554245,\n",
              "  0.05896802991628647,\n",
              "  0.06232895329594612,\n",
              "  0.0563223734498024,\n",
              "  0.066599540412426,\n",
              "  0.07225742936134338,\n",
              "  0.0626511499285698,\n",
              "  0.06435321271419525,\n",
              "  0.05345761775970459],\n",
              " 'val_accuracy': [0.6791045069694519,\n",
              "  0.4552238881587982,\n",
              "  0.7761194109916687,\n",
              "  0.7313432693481445,\n",
              "  0.8283582329750061,\n",
              "  0.8059701323509216,\n",
              "  0.8731343150138855,\n",
              "  0.6940298676490784,\n",
              "  0.8059701323509216,\n",
              "  0.7164179086685181,\n",
              "  0.7910447716712952,\n",
              "  0.9029850959777832,\n",
              "  0.8731343150138855,\n",
              "  0.888059675693512,\n",
              "  0.8432835936546326,\n",
              "  0.8208954930305481,\n",
              "  0.8805969953536987,\n",
              "  0.9104477763175964,\n",
              "  0.888059675693512,\n",
              "  0.7686567306518555,\n",
              "  0.9029850959777832,\n",
              "  0.8059701323509216,\n",
              "  0.9029850959777832,\n",
              "  0.7388059496879578,\n",
              "  0.8731343150138855,\n",
              "  0.7910447716712952,\n",
              "  0.8134328126907349,\n",
              "  0.9253731369972229,\n",
              "  0.89552241563797,\n",
              "  0.8731343150138855,\n",
              "  0.858208954334259,\n",
              "  0.9402984976768494,\n",
              "  0.9104477763175964,\n",
              "  0.9029850959777832,\n",
              "  0.9328358173370361,\n",
              "  0.9253731369972229,\n",
              "  0.888059675693512,\n",
              "  0.9402984976768494,\n",
              "  0.9253731369972229,\n",
              "  0.8208954930305481,\n",
              "  0.8432835936546326,\n",
              "  0.9104477763175964,\n",
              "  0.9253731369972229,\n",
              "  0.9104477763175964,\n",
              "  0.8283582329750061,\n",
              "  0.9029850959777832,\n",
              "  0.8656716346740723,\n",
              "  0.9253731369972229,\n",
              "  0.9328358173370361,\n",
              "  0.9179104566574097,\n",
              "  0.9104477763175964,\n",
              "  0.9253731369972229,\n",
              "  0.9253731369972229,\n",
              "  0.9104477763175964,\n",
              "  0.9328358173370361,\n",
              "  0.8507462739944458,\n",
              "  0.888059675693512,\n",
              "  0.888059675693512,\n",
              "  0.9179104566574097,\n",
              "  0.9179104566574097,\n",
              "  0.8134328126907349,\n",
              "  0.9104477763175964,\n",
              "  0.8805969953536987,\n",
              "  0.9402984976768494,\n",
              "  0.9253731369972229,\n",
              "  0.7761194109916687,\n",
              "  0.9253731369972229,\n",
              "  0.8507462739944458,\n",
              "  0.9104477763175964,\n",
              "  0.9328358173370361,\n",
              "  0.8507462739944458,\n",
              "  0.9402984976768494,\n",
              "  0.9328358173370361,\n",
              "  0.9402984976768494,\n",
              "  0.8358209133148193,\n",
              "  0.9179104566574097,\n",
              "  0.9552238583564758,\n",
              "  0.8432835936546326,\n",
              "  0.9253731369972229,\n",
              "  0.9104477763175964,\n",
              "  0.89552241563797,\n",
              "  0.9328358173370361,\n",
              "  0.9328358173370361,\n",
              "  0.89552241563797,\n",
              "  0.9253731369972229,\n",
              "  0.9253731369972229,\n",
              "  0.888059675693512,\n",
              "  0.9179104566574097,\n",
              "  0.9402984976768494,\n",
              "  0.7089552283287048,\n",
              "  0.9328358173370361,\n",
              "  0.9402984976768494,\n",
              "  0.8731343150138855,\n",
              "  0.9402984976768494,\n",
              "  0.9328358173370361,\n",
              "  0.9402984976768494,\n",
              "  0.8805969953536987,\n",
              "  0.9328358173370361,\n",
              "  0.9328358173370361,\n",
              "  0.89552241563797],\n",
              " 'val_loss': [0.7753596305847168,\n",
              "  1.1045773029327393,\n",
              "  0.45614713430404663,\n",
              "  0.5273799300193787,\n",
              "  0.37386617064476013,\n",
              "  0.40195512771606445,\n",
              "  0.354233980178833,\n",
              "  0.5636143088340759,\n",
              "  0.35441550612449646,\n",
              "  0.5205395221710205,\n",
              "  0.36419808864593506,\n",
              "  0.3037622272968292,\n",
              "  0.319294273853302,\n",
              "  0.30825290083885193,\n",
              "  0.34385329484939575,\n",
              "  0.3175472915172577,\n",
              "  0.2732573449611664,\n",
              "  0.25449517369270325,\n",
              "  0.26469630002975464,\n",
              "  0.46029824018478394,\n",
              "  0.2370394468307495,\n",
              "  0.37003424763679504,\n",
              "  0.2612856328487396,\n",
              "  0.5607416033744812,\n",
              "  0.26630517840385437,\n",
              "  0.4175887107849121,\n",
              "  0.3553415536880493,\n",
              "  0.2396167367696762,\n",
              "  0.2565203607082367,\n",
              "  0.2640588581562042,\n",
              "  0.3127920627593994,\n",
              "  0.22947324812412262,\n",
              "  0.230783611536026,\n",
              "  0.2677551507949829,\n",
              "  0.22690925002098083,\n",
              "  0.22443701326847076,\n",
              "  0.2418399602174759,\n",
              "  0.21947507560253143,\n",
              "  0.2275572568178177,\n",
              "  0.3596780002117157,\n",
              "  0.35256579518318176,\n",
              "  0.23203077912330627,\n",
              "  0.24187025427818298,\n",
              "  0.21092641353607178,\n",
              "  0.3359937369823456,\n",
              "  0.24942892789840698,\n",
              "  0.28855952620506287,\n",
              "  0.21625865995883942,\n",
              "  0.1925889104604721,\n",
              "  0.23444323241710663,\n",
              "  0.25204241275787354,\n",
              "  0.20961223542690277,\n",
              "  0.19740831851959229,\n",
              "  0.21433612704277039,\n",
              "  0.1876097470521927,\n",
              "  0.3066120147705078,\n",
              "  0.2431015968322754,\n",
              "  0.2432345449924469,\n",
              "  0.20384900271892548,\n",
              "  0.20464752614498138,\n",
              "  0.37279680371284485,\n",
              "  0.229037806391716,\n",
              "  0.2724537253379822,\n",
              "  0.21501034498214722,\n",
              "  0.2035505771636963,\n",
              "  0.46793243288993835,\n",
              "  0.2356412410736084,\n",
              "  0.3196319341659546,\n",
              "  0.21992237865924835,\n",
              "  0.1980004608631134,\n",
              "  0.33145055174827576,\n",
              "  0.18604746460914612,\n",
              "  0.1728072464466095,\n",
              "  0.15750354528427124,\n",
              "  0.3237786889076233,\n",
              "  0.21472179889678955,\n",
              "  0.19174601137638092,\n",
              "  0.3419196307659149,\n",
              "  0.2048170268535614,\n",
              "  0.21536760032176971,\n",
              "  0.25347113609313965,\n",
              "  0.1960519701242447,\n",
              "  0.19429971277713776,\n",
              "  0.2501238286495209,\n",
              "  0.17825549840927124,\n",
              "  0.17163872718811035,\n",
              "  0.2249746173620224,\n",
              "  0.20531576871871948,\n",
              "  0.18249349296092987,\n",
              "  0.8928535580635071,\n",
              "  0.1770760864019394,\n",
              "  0.164764404296875,\n",
              "  0.2916605472564697,\n",
              "  0.1629839688539505,\n",
              "  0.16534259915351868,\n",
              "  0.1772138923406601,\n",
              "  0.26043352484703064,\n",
              "  0.15095992386341095,\n",
              "  0.16138626635074615,\n",
              "  0.22417426109313965]}"
            ]
          },
          "metadata": {
            "tags": []
          },
          "execution_count": 83
        }
      ]
    },
    {
      "cell_type": "code",
      "metadata": {
        "id": "X3o4tI4Ko45A",
        "colab": {
          "base_uri": "https://localhost:8080/",
          "height": 282
        },
        "outputId": "b75338fb-80f3-4387-d7c3-de54116b5de2"
      },
      "source": [
        "# plotting the accuracies and losses of train and validation dataset\r\n",
        "plt.plot(r.history['accuracy'], label = 'train_accuracy')\r\n",
        "plt.plot(r.history['val_accuracy'], label = 'val_accuracy')\r\n",
        "plt.legend()\r\n",
        "plt.show()\r\n",
        "plt.savefig(\"malaria_accuracy\")\r\n"
      ],
      "execution_count": 84,
      "outputs": [
        {
          "output_type": "display_data",
          "data": {
            "image/png": "[encoded data removed]",
            "text/plain": [
              "<Figure size 432x288 with 1 Axes>"
            ]
          },
          "metadata": {
            "tags": [],
            "needs_background": "light"
          }
        },
        {
          "output_type": "display_data",
          "data": {
            "text/plain": [
              "<Figure size 432x288 with 0 Axes>"
            ]
          },
          "metadata": {
            "tags": []
          }
        }
      ]
    },
    {
      "cell_type": "code",
      "metadata": {
        "id": "Gs0lZGY-xNid",
        "colab": {
          "base_uri": "https://localhost:8080/",
          "height": 282
        },
        "outputId": "e313df98-c19a-40e4-8109-2403b704ec4b"
      },
      "source": [
        "plt.plot(r.history['loss'], label = 'train_loss')\r\n",
        "plt.plot(r.history['val_loss'], label = 'val_loss')\r\n",
        "plt.legend()\r\n",
        "plt.show()\r\n",
        "plt.savefig(\"malaria_loss\")"
      ],
      "execution_count": 85,
      "outputs": [
        {
          "output_type": "display_data",
          "data": {
            "image/png": "[encoded data removed]",
            "text/plain": [
              "<Figure size 432x288 with 1 Axes>"
            ]
          },
          "metadata": {
            "tags": [],
            "needs_background": "light"
          }
        },
        {
          "output_type": "display_data",
          "data": {
            "text/plain": [
              "<Figure size 432x288 with 0 Axes>"
            ]
          },
          "metadata": {
            "tags": []
          }
        }
      ]
    },
    {
      "cell_type": "code",
      "metadata": {
        "id": "pPhrahJeNm7F"
      },
      "source": [
        "# Making predictions from the model in the test set\r\n",
        "y_pred = model.predict(test_set)"
      ],
      "execution_count": 86,
      "outputs": []
    },
    {
      "cell_type": "code",
      "metadata": {
        "colab": {
          "base_uri": "https://localhost:8080/"
        },
        "id": "7dsFcaR13Yn0",
        "outputId": "82fdb418-f9e6-4793-e94a-e069d01c7f80"
      },
      "source": [
        "y_pred"
      ],
      "execution_count": 87,
      "outputs": [
        {
          "output_type": "execute_result",
          "data": {
            "text/plain": [
              "array([[8.04508507e-01, 1.95491463e-01],\n",
              "       [7.34006763e-01, 2.65993267e-01],\n",
              "       [9.99950171e-01, 4.98482623e-05],\n",
              "       [9.25723135e-01, 7.42768645e-02],\n",
              "       [1.51753603e-02, 9.84824598e-01],\n",
              "       [1.00000000e+00, 7.88497254e-11],\n",
              "       [2.17596069e-02, 9.78240371e-01],\n",
              "       [9.98945773e-01, 1.05426065e-03],\n",
              "       [1.97885260e-02, 9.80211496e-01],\n",
              "       [2.17912570e-01, 7.82087445e-01],\n",
              "       [9.99267757e-01, 7.32224493e-04],\n",
              "       [5.39687984e-02, 9.46031213e-01],\n",
              "       [9.96932268e-01, 3.06772022e-03],\n",
              "       [9.51069057e-01, 4.89309803e-02],\n",
              "       [9.99997735e-01, 2.31748186e-06],\n",
              "       [9.99997973e-01, 1.98043745e-06],\n",
              "       [9.99957085e-01, 4.28541607e-05],\n",
              "       [3.26916277e-02, 9.67308342e-01],\n",
              "       [2.52500153e-03, 9.97474968e-01],\n",
              "       [9.99989867e-01, 1.00912976e-05],\n",
              "       [7.45625198e-01, 2.54374802e-01],\n",
              "       [2.64572412e-01, 7.35427618e-01],\n",
              "       [2.25078948e-02, 9.77492154e-01],\n",
              "       [1.56388693e-02, 9.84361053e-01],\n",
              "       [1.00000000e+00, 4.17065098e-11],\n",
              "       [1.05974346e-01, 8.94025683e-01],\n",
              "       [9.27502990e-01, 7.24970326e-02],\n",
              "       [9.98593032e-01, 1.40696787e-03],\n",
              "       [9.99999642e-01, 3.29861706e-07],\n",
              "       [9.99939203e-01, 6.07356124e-05],\n",
              "       [9.91505682e-01, 8.49433523e-03],\n",
              "       [2.33964678e-02, 9.76603508e-01],\n",
              "       [3.04298960e-02, 9.69570100e-01],\n",
              "       [1.34813590e-02, 9.86518681e-01],\n",
              "       [1.79094002e-02, 9.82090533e-01],\n",
              "       [6.67004613e-03, 9.93329942e-01],\n",
              "       [8.47885106e-03, 9.91521120e-01],\n",
              "       [6.30742125e-03, 9.93692636e-01],\n",
              "       [8.22265744e-01, 1.77734271e-01],\n",
              "       [9.96722043e-01, 3.27800633e-03],\n",
              "       [9.68796909e-01, 3.12031433e-02],\n",
              "       [1.37450285e-02, 9.86254930e-01],\n",
              "       [2.19808910e-02, 9.78019118e-01],\n",
              "       [4.41263676e-01, 5.58736324e-01],\n",
              "       [6.59694791e-01, 3.40305179e-01],\n",
              "       [9.99999881e-01, 1.35581857e-07],\n",
              "       [2.71245629e-01, 7.28754401e-01],\n",
              "       [1.33681238e-01, 8.66318762e-01],\n",
              "       [1.20653562e-01, 8.79346430e-01],\n",
              "       [9.53632116e-01, 4.63678241e-02],\n",
              "       [9.99987483e-01, 1.24624830e-05],\n",
              "       [9.88657057e-01, 1.13429511e-02],\n",
              "       [4.72569615e-01, 5.27430415e-01],\n",
              "       [4.87854108e-02, 9.51214552e-01],\n",
              "       [3.91822234e-02, 9.60817814e-01],\n",
              "       [9.99981999e-01, 1.80322240e-05],\n",
              "       [9.93926108e-01, 6.07393123e-03],\n",
              "       [2.61143353e-02, 9.73885655e-01],\n",
              "       [1.04201222e-02, 9.89579856e-01],\n",
              "       [5.23595929e-01, 4.76404041e-01],\n",
              "       [9.87671852e-01, 1.23281311e-02],\n",
              "       [6.44152284e-01, 3.55847716e-01],\n",
              "       [9.99993563e-01, 6.49123558e-06],\n",
              "       [4.98464294e-02, 9.50153530e-01],\n",
              "       [8.09401035e-01, 1.90598935e-01],\n",
              "       [9.99135673e-01, 8.64317350e-04],\n",
              "       [9.99999523e-01, 4.59319523e-07],\n",
              "       [8.91554356e-01, 1.08445667e-01],\n",
              "       [9.99993801e-01, 6.15612726e-06],\n",
              "       [9.99998212e-01, 1.82693043e-06],\n",
              "       [9.99912500e-01, 8.74618709e-05],\n",
              "       [9.99993205e-01, 6.84581209e-06],\n",
              "       [5.16445450e-02, 9.48355436e-01],\n",
              "       [8.11198533e-01, 1.88801482e-01],\n",
              "       [9.83790457e-01, 1.62095614e-02],\n",
              "       [9.99978065e-01, 2.19495960e-05],\n",
              "       [9.97705042e-01, 2.29504076e-03],\n",
              "       [1.91822529e-01, 8.08177471e-01],\n",
              "       [9.56119969e-02, 9.04388070e-01],\n",
              "       [5.13376534e-01, 4.86623466e-01],\n",
              "       [9.92038846e-01, 7.96117447e-03],\n",
              "       [2.98932828e-02, 9.70106721e-01],\n",
              "       [8.42444971e-03, 9.91575539e-01],\n",
              "       [3.01801786e-02, 9.69819844e-01],\n",
              "       [4.07938147e-03, 9.95920658e-01],\n",
              "       [7.81311870e-01, 2.18688175e-01],\n",
              "       [9.97545302e-01, 2.45467713e-03],\n",
              "       [9.99990463e-01, 9.58690089e-06],\n",
              "       [4.52441067e-01, 5.47558963e-01],\n",
              "       [9.99854922e-01, 1.45100857e-04],\n",
              "       [9.99894142e-01, 1.05866799e-04],\n",
              "       [1.57777015e-02, 9.84222233e-01],\n",
              "       [7.74073275e-03, 9.92259204e-01],\n",
              "       [7.15785682e-01, 2.84214288e-01],\n",
              "       [9.99996781e-01, 3.23547170e-06],\n",
              "       [7.61422003e-03, 9.92385745e-01],\n",
              "       [8.95278692e-01, 1.04721315e-01],\n",
              "       [9.69937801e-01, 3.00622154e-02],\n",
              "       [1.00000000e+00, 5.02411766e-08],\n",
              "       [1.78768396e-01, 8.21231604e-01],\n",
              "       [1.73277762e-02, 9.82672215e-01],\n",
              "       [9.99585450e-01, 4.14566370e-04],\n",
              "       [9.99917984e-01, 8.20167115e-05],\n",
              "       [4.45755720e-02, 9.55424368e-01],\n",
              "       [9.97630477e-01, 2.36948859e-03],\n",
              "       [1.22252218e-02, 9.87774730e-01],\n",
              "       [9.99891520e-01, 1.08436412e-04],\n",
              "       [2.07473873e-03, 9.97925282e-01],\n",
              "       [2.32990742e-01, 7.67009199e-01],\n",
              "       [9.80359972e-01, 1.96400043e-02],\n",
              "       [7.20112085e-01, 2.79887885e-01],\n",
              "       [9.29793775e-01, 7.02061579e-02],\n",
              "       [9.97880578e-01, 2.11940333e-03],\n",
              "       [6.52201414e-01, 3.47798556e-01],\n",
              "       [8.67304564e-01, 1.32695466e-01],\n",
              "       [7.95670133e-03, 9.92043316e-01],\n",
              "       [7.68480957e-01, 2.31519043e-01],\n",
              "       [8.97333860e-01, 1.02666192e-01],\n",
              "       [9.99585330e-01, 4.14713053e-04],\n",
              "       [4.52331007e-01, 5.47668993e-01],\n",
              "       [4.32910249e-02, 9.56708968e-01],\n",
              "       [9.96203840e-01, 3.79618816e-03],\n",
              "       [3.28463018e-01, 6.71536982e-01],\n",
              "       [3.38498622e-01, 6.61501348e-01],\n",
              "       [9.90018964e-01, 9.98097844e-03],\n",
              "       [8.22088301e-01, 1.77911669e-01],\n",
              "       [9.99677777e-01, 3.22189444e-04],\n",
              "       [9.90135133e-01, 9.86491330e-03],\n",
              "       [9.98169661e-01, 1.83036423e-03],\n",
              "       [9.99929547e-01, 7.04044287e-05],\n",
              "       [7.53624830e-03, 9.92463708e-01],\n",
              "       [4.65722501e-01, 5.34277499e-01],\n",
              "       [9.99935150e-01, 6.49007416e-05],\n",
              "       [1.49691910e-01, 8.50308061e-01]], dtype=float32)"
            ]
          },
          "metadata": {
            "tags": []
          },
          "execution_count": 87
        }
      ]
    },
    {
      "cell_type": "code",
      "metadata": {
        "colab": {
          "base_uri": "https://localhost:8080/"
        },
        "id": "SgOZ7KjC3b-4",
        "outputId": "4e41c35c-fa32-4e40-8379-89ea3e808d85"
      },
      "source": [
        "# taking the index with maximum value in y_pred because thats our prediction which we are looking for\r\n",
        "y_pred = np.argmax(y_pred, axis=1)\r\n",
        "y_pred\r\n"
      ],
      "execution_count": 88,
      "outputs": [
        {
          "output_type": "execute_result",
          "data": {
            "text/plain": [
              "array([0, 0, 0, 0, 1, 0, 1, 0, 1, 1, 0, 1, 0, 0, 0, 0, 0, 1, 1, 0, 0, 1,\n",
              "       1, 1, 0, 1, 0, 0, 0, 0, 0, 1, 1, 1, 1, 1, 1, 1, 0, 0, 0, 1, 1, 1,\n",
              "       0, 0, 1, 1, 1, 0, 0, 0, 1, 1, 1, 0, 0, 1, 1, 0, 0, 0, 0, 1, 0, 0,\n",
              "       0, 0, 0, 0, 0, 0, 1, 0, 0, 0, 0, 1, 1, 0, 0, 1, 1, 1, 1, 0, 0, 0,\n",
              "       1, 0, 0, 1, 1, 0, 0, 1, 0, 0, 0, 1, 1, 0, 0, 1, 0, 1, 0, 1, 1, 0,\n",
              "       0, 0, 0, 0, 0, 1, 0, 0, 0, 1, 1, 0, 1, 1, 0, 0, 0, 0, 0, 0, 1, 1,\n",
              "       0, 1])"
            ]
          },
          "metadata": {
            "tags": []
          },
          "execution_count": 88
        }
      ]
    },
    {
      "cell_type": "code",
      "metadata": {
        "id": "eylf1Zm84Iea"
      },
      "source": [
        "# loading the model\r\n",
        "model = load_model('malaria_vgg19_1.h5')\r\n",
        "\r\n",
        "# loading a random image for testing\r\n",
        "img = load_img('/content/drive/MyDrive/Malaria Prediction/Dataset/Test/Uninfected/C3thin_original_IMG_20150608_163002_cell_97.png',\r\n",
        "                 target_size = (224,224))"
      ],
      "execution_count": 89,
      "outputs": []
    },
    {
      "cell_type": "code",
      "metadata": {
        "colab": {
          "base_uri": "https://localhost:8080/",
          "height": 241
        },
        "id": "Qwjx-wQO8G4e",
        "outputId": "f42fec40-db0e-475f-e3d7-89b1fdbc452e"
      },
      "source": [
        "img"
      ],
      "execution_count": 90,
      "outputs": [
        {
          "output_type": "execute_result",
          "data": {
            "image/png": "[encoded data removed]",
            "text/plain": [
              "<PIL.Image.Image image mode=RGB size=224x224 at 0x7F861E7965C0>"
            ]
          },
          "metadata": {
            "tags": []
          },
          "execution_count": 90
        }
      ]
    },
    {
      "cell_type": "code",
      "metadata": {
        "id": "NgpVSsP08KJp"
      },
      "source": [
        "# converting image to array so that the model can understand\r\n",
        "vect_image = image.img_to_array(img)"
      ],
      "execution_count": 91,
      "outputs": []
    },
    {
      "cell_type": "code",
      "metadata": {
        "colab": {
          "base_uri": "https://localhost:8080/"
        },
        "id": "_LbH3ETX8vw5",
        "outputId": "d4293dc4-6ebe-4bba-cf49-37021f1010b3"
      },
      "source": [
        "vect_image"
      ],
      "execution_count": 92,
      "outputs": [
        {
          "output_type": "execute_result",
          "data": {
            "text/plain": [
              "array([[[0., 0., 0.],\n",
              "        [0., 0., 0.],\n",
              "        [0., 0., 0.],\n",
              "        ...,\n",
              "        [0., 0., 0.],\n",
              "        [0., 0., 0.],\n",
              "        [0., 0., 0.]],\n",
              "\n",
              "       [[0., 0., 0.],\n",
              "        [0., 0., 0.],\n",
              "        [0., 0., 0.],\n",
              "        ...,\n",
              "        [0., 0., 0.],\n",
              "        [0., 0., 0.],\n",
              "        [0., 0., 0.]],\n",
              "\n",
              "       [[0., 0., 0.],\n",
              "        [0., 0., 0.],\n",
              "        [0., 0., 0.],\n",
              "        ...,\n",
              "        [0., 0., 0.],\n",
              "        [0., 0., 0.],\n",
              "        [0., 0., 0.]],\n",
              "\n",
              "       ...,\n",
              "\n",
              "       [[0., 0., 0.],\n",
              "        [0., 0., 0.],\n",
              "        [0., 0., 0.],\n",
              "        ...,\n",
              "        [0., 0., 0.],\n",
              "        [0., 0., 0.],\n",
              "        [0., 0., 0.]],\n",
              "\n",
              "       [[0., 0., 0.],\n",
              "        [0., 0., 0.],\n",
              "        [0., 0., 0.],\n",
              "        ...,\n",
              "        [0., 0., 0.],\n",
              "        [0., 0., 0.],\n",
              "        [0., 0., 0.]],\n",
              "\n",
              "       [[0., 0., 0.],\n",
              "        [0., 0., 0.],\n",
              "        [0., 0., 0.],\n",
              "        ...,\n",
              "        [0., 0., 0.],\n",
              "        [0., 0., 0.],\n",
              "        [0., 0., 0.]]], dtype=float32)"
            ]
          },
          "metadata": {
            "tags": []
          },
          "execution_count": 92
        }
      ]
    },
    {
      "cell_type": "code",
      "metadata": {
        "colab": {
          "base_uri": "https://localhost:8080/"
        },
        "id": "t40ootsr8-jl",
        "outputId": "57d01388-c6d4-440a-d6db-1f216d9ac974"
      },
      "source": [
        "vect_image.shape"
      ],
      "execution_count": 93,
      "outputs": [
        {
          "output_type": "execute_result",
          "data": {
            "text/plain": [
              "(224, 224, 3)"
            ]
          },
          "metadata": {
            "tags": []
          },
          "execution_count": 93
        }
      ]
    },
    {
      "cell_type": "code",
      "metadata": {
        "id": "lHuISVml9yxL"
      },
      "source": [
        "# rescaling our image/vect_image as we have done the same in our model\r\n",
        "vect_image = vect_image/255"
      ],
      "execution_count": 94,
      "outputs": []
    },
    {
      "cell_type": "code",
      "metadata": {
        "colab": {
          "base_uri": "https://localhost:8080/"
        },
        "id": "9xkcil6x9-sE",
        "outputId": "a781ce29-d601-4249-8efa-e0b4627f1019"
      },
      "source": [
        "# Expanding the dimensions\r\n",
        "vect_image= np.expand_dims(vect_image, axis=0)\r\n",
        "img_data = preprocess_input(vect_image)\r\n",
        "img_data.shape"
      ],
      "execution_count": 95,
      "outputs": [
        {
          "output_type": "execute_result",
          "data": {
            "text/plain": [
              "(1, 224, 224, 3)"
            ]
          },
          "metadata": {
            "tags": []
          },
          "execution_count": 95
        }
      ]
    },
    {
      "cell_type": "code",
      "metadata": {
        "id": "BmVBUBzK9JWP"
      },
      "source": [
        "# making predictions on processed image\r\n",
        "pred = model.predict(img_data)"
      ],
      "execution_count": 96,
      "outputs": []
    },
    {
      "cell_type": "code",
      "metadata": {
        "colab": {
          "base_uri": "https://localhost:8080/"
        },
        "id": "BAncqGf49dD2",
        "outputId": "4e81b863-f7d5-4ee1-c46f-1e61df844bdc"
      },
      "source": [
        "pred"
      ],
      "execution_count": 97,
      "outputs": [
        {
          "output_type": "execute_result",
          "data": {
            "text/plain": [
              "array([[0.01281476, 0.9871853 ]], dtype=float32)"
            ]
          },
          "metadata": {
            "tags": []
          },
          "execution_count": 97
        }
      ]
    },
    {
      "cell_type": "code",
      "metadata": {
        "colab": {
          "base_uri": "https://localhost:8080/"
        },
        "id": "B-JSUff_-dPs",
        "outputId": "11b4c30c-6630-44d5-ac03-d176486eb8a6"
      },
      "source": [
        "# Taking the index of maximum value as our answer\r\n",
        "final_pred = np.argmax(pred, axis=1)\r\n",
        "final_pred"
      ],
      "execution_count": 98,
      "outputs": [
        {
          "output_type": "execute_result",
          "data": {
            "text/plain": [
              "array([1])"
            ]
          },
          "metadata": {
            "tags": []
          },
          "execution_count": 98
        }
      ]
    },
    {
      "cell_type": "code",
      "metadata": {
        "colab": {
          "base_uri": "https://localhost:8080/"
        },
        "id": "flATV4WJ_Fmk",
        "outputId": "33ce2c50-a3ca-4217-f945-f9e791a3a1e5"
      },
      "source": [
        "if (final_pred==1):\r\n",
        "  print('uninfected')\r\n",
        "else:\r\n",
        "  print('parasite(infected)')"
      ],
      "execution_count": 99,
      "outputs": [
        {
          "output_type": "stream",
          "text": [
            "uninfected\n"
          ],
          "name": "stdout"
        }
      ]
    },
    {
      "cell_type": "code",
      "metadata": {
        "id": "XCv5FxTE_pAG"
      },
      "source": [
        ""
      ],
      "execution_count": 99,
      "outputs": []
    }
  ]
}